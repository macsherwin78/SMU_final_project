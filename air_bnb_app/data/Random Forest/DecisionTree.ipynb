{
 "cells": [
  {
   "cell_type": "code",
   "execution_count": 1,
   "metadata": {},
   "outputs": [],
   "source": [
    "import numpy as np \n",
    "import pandas as pd \n",
    "import seaborn as sns\n",
    "import matplotlib.pyplot as plt\n",
    "import sklearn\n",
    "from sklearn.metrics import mean_absolute_error\n",
    "from sklearn.metrics import mean_squared_error\n",
    "from sklearn import metrics\n",
    "from sklearn.metrics import r2_score\n",
    "data_abb = pd.read_csv('clean_listings.csv')"
   ]
  },
  {
   "cell_type": "code",
   "execution_count": 2,
   "metadata": {},
   "outputs": [],
   "source": [
    "# We will make model to only use listings which has price set up. Their are multiple listings with no prices. \n",
    "# We will also use listings which has availability_365>0\n",
    "data_abb=data_abb[data_abb.price>0]\n",
    "data_abb=data_abb[data_abb.availability_365>0]"
   ]
  },
  {
   "cell_type": "code",
   "execution_count": 3,
   "metadata": {},
   "outputs": [
    {
     "data": {
      "text/plain": [
       "Manhattan        13199\n",
       "Brooklyn         12046\n",
       "Queens            4451\n",
       "Bronx              985\n",
       "Staten Island      308\n",
       "Name: neighbourhood_group, dtype: int64"
      ]
     },
     "execution_count": 3,
     "metadata": {},
     "output_type": "execute_result"
    }
   ],
   "source": [
    "data_abb.neighbourhood_group.value_counts()"
   ]
  },
  {
   "cell_type": "code",
   "execution_count": 4,
   "metadata": {},
   "outputs": [
    {
     "data": {
      "text/html": [
       "<div>\n",
       "<style scoped>\n",
       "    .dataframe tbody tr th:only-of-type {\n",
       "        vertical-align: middle;\n",
       "    }\n",
       "\n",
       "    .dataframe tbody tr th {\n",
       "        vertical-align: top;\n",
       "    }\n",
       "\n",
       "    .dataframe thead th {\n",
       "        text-align: right;\n",
       "    }\n",
       "</style>\n",
       "<table border=\"1\" class=\"dataframe\">\n",
       "  <thead>\n",
       "    <tr style=\"text-align: right;\">\n",
       "      <th></th>\n",
       "      <th>Unnamed: 0</th>\n",
       "      <th>id</th>\n",
       "      <th>host_id</th>\n",
       "      <th>latitude</th>\n",
       "      <th>longitude</th>\n",
       "      <th>price</th>\n",
       "      <th>minimum_nights</th>\n",
       "      <th>number_of_reviews</th>\n",
       "      <th>reviews_per_month</th>\n",
       "      <th>calculated_host_listings_count</th>\n",
       "      <th>availability_365</th>\n",
       "    </tr>\n",
       "  </thead>\n",
       "  <tbody>\n",
       "    <tr>\n",
       "      <td>count</td>\n",
       "      <td>30989.000000</td>\n",
       "      <td>3.098900e+04</td>\n",
       "      <td>3.098900e+04</td>\n",
       "      <td>30989.000000</td>\n",
       "      <td>30989.000000</td>\n",
       "      <td>30989.000000</td>\n",
       "      <td>30989.000000</td>\n",
       "      <td>30989.000000</td>\n",
       "      <td>25653.000000</td>\n",
       "      <td>30989.000000</td>\n",
       "      <td>30989.000000</td>\n",
       "    </tr>\n",
       "    <tr>\n",
       "      <td>mean</td>\n",
       "      <td>28754.943625</td>\n",
       "      <td>2.428352e+07</td>\n",
       "      <td>9.781194e+07</td>\n",
       "      <td>40.727881</td>\n",
       "      <td>-73.946871</td>\n",
       "      <td>170.705541</td>\n",
       "      <td>9.217012</td>\n",
       "      <td>31.226822</td>\n",
       "      <td>1.815011</td>\n",
       "      <td>10.754848</td>\n",
       "      <td>184.076479</td>\n",
       "    </tr>\n",
       "    <tr>\n",
       "      <td>std</td>\n",
       "      <td>15098.329455</td>\n",
       "      <td>1.277387e+07</td>\n",
       "      <td>1.004174e+08</td>\n",
       "      <td>0.056728</td>\n",
       "      <td>0.053112</td>\n",
       "      <td>399.661973</td>\n",
       "      <td>26.784313</td>\n",
       "      <td>50.828467</td>\n",
       "      <td>1.759268</td>\n",
       "      <td>40.764932</td>\n",
       "      <td>130.447801</td>\n",
       "    </tr>\n",
       "    <tr>\n",
       "      <td>min</td>\n",
       "      <td>0.000000</td>\n",
       "      <td>2.595000e+03</td>\n",
       "      <td>2.571000e+03</td>\n",
       "      <td>40.499790</td>\n",
       "      <td>-74.247870</td>\n",
       "      <td>10.000000</td>\n",
       "      <td>1.000000</td>\n",
       "      <td>0.000000</td>\n",
       "      <td>0.010000</td>\n",
       "      <td>1.000000</td>\n",
       "      <td>1.000000</td>\n",
       "    </tr>\n",
       "    <tr>\n",
       "      <td>25%</td>\n",
       "      <td>16881.000000</td>\n",
       "      <td>1.411041e+07</td>\n",
       "      <td>1.057157e+07</td>\n",
       "      <td>40.688060</td>\n",
       "      <td>-73.983320</td>\n",
       "      <td>70.000000</td>\n",
       "      <td>2.000000</td>\n",
       "      <td>2.000000</td>\n",
       "      <td>0.450000</td>\n",
       "      <td>1.000000</td>\n",
       "      <td>64.000000</td>\n",
       "    </tr>\n",
       "    <tr>\n",
       "      <td>50%</td>\n",
       "      <td>31414.000000</td>\n",
       "      <td>2.709038e+07</td>\n",
       "      <td>5.141459e+07</td>\n",
       "      <td>40.722970</td>\n",
       "      <td>-73.953300</td>\n",
       "      <td>113.000000</td>\n",
       "      <td>3.000000</td>\n",
       "      <td>10.000000</td>\n",
       "      <td>1.250000</td>\n",
       "      <td>1.000000</td>\n",
       "      <td>165.000000</td>\n",
       "    </tr>\n",
       "    <tr>\n",
       "      <td>75%</td>\n",
       "      <td>41907.000000</td>\n",
       "      <td>3.583560e+07</td>\n",
       "      <td>1.810749e+08</td>\n",
       "      <td>40.762470</td>\n",
       "      <td>-73.927940</td>\n",
       "      <td>188.000000</td>\n",
       "      <td>5.000000</td>\n",
       "      <td>38.000000</td>\n",
       "      <td>2.730000</td>\n",
       "      <td>3.000000</td>\n",
       "      <td>332.000000</td>\n",
       "    </tr>\n",
       "    <tr>\n",
       "      <td>max</td>\n",
       "      <td>50598.000000</td>\n",
       "      <td>4.058402e+07</td>\n",
       "      <td>3.143682e+08</td>\n",
       "      <td>40.916860</td>\n",
       "      <td>-73.712990</td>\n",
       "      <td>10000.000000</td>\n",
       "      <td>1250.000000</td>\n",
       "      <td>630.000000</td>\n",
       "      <td>28.480000</td>\n",
       "      <td>310.000000</td>\n",
       "      <td>365.000000</td>\n",
       "    </tr>\n",
       "  </tbody>\n",
       "</table>\n",
       "</div>"
      ],
      "text/plain": [
       "         Unnamed: 0            id       host_id      latitude     longitude  \\\n",
       "count  30989.000000  3.098900e+04  3.098900e+04  30989.000000  30989.000000   \n",
       "mean   28754.943625  2.428352e+07  9.781194e+07     40.727881    -73.946871   \n",
       "std    15098.329455  1.277387e+07  1.004174e+08      0.056728      0.053112   \n",
       "min        0.000000  2.595000e+03  2.571000e+03     40.499790    -74.247870   \n",
       "25%    16881.000000  1.411041e+07  1.057157e+07     40.688060    -73.983320   \n",
       "50%    31414.000000  2.709038e+07  5.141459e+07     40.722970    -73.953300   \n",
       "75%    41907.000000  3.583560e+07  1.810749e+08     40.762470    -73.927940   \n",
       "max    50598.000000  4.058402e+07  3.143682e+08     40.916860    -73.712990   \n",
       "\n",
       "              price  minimum_nights  number_of_reviews  reviews_per_month  \\\n",
       "count  30989.000000    30989.000000       30989.000000       25653.000000   \n",
       "mean     170.705541        9.217012          31.226822           1.815011   \n",
       "std      399.661973       26.784313          50.828467           1.759268   \n",
       "min       10.000000        1.000000           0.000000           0.010000   \n",
       "25%       70.000000        2.000000           2.000000           0.450000   \n",
       "50%      113.000000        3.000000          10.000000           1.250000   \n",
       "75%      188.000000        5.000000          38.000000           2.730000   \n",
       "max    10000.000000     1250.000000         630.000000          28.480000   \n",
       "\n",
       "       calculated_host_listings_count  availability_365  \n",
       "count                    30989.000000      30989.000000  \n",
       "mean                        10.754848        184.076479  \n",
       "std                         40.764932        130.447801  \n",
       "min                          1.000000          1.000000  \n",
       "25%                          1.000000         64.000000  \n",
       "50%                          1.000000        165.000000  \n",
       "75%                          3.000000        332.000000  \n",
       "max                        310.000000        365.000000  "
      ]
     },
     "execution_count": 4,
     "metadata": {},
     "output_type": "execute_result"
    }
   ],
   "source": [
    "data_abb.describe()"
   ]
  },
  {
   "cell_type": "code",
   "execution_count": 5,
   "metadata": {},
   "outputs": [
    {
     "data": {
      "image/png": "[encoded data removed]",
      "text/plain": [
       "<Figure size 432x288 with 1 Axes>"
      ]
     },
     "metadata": {
      "needs_background": "light"
     },
     "output_type": "display_data"
    }
   ],
   "source": [
    "bins = [x for x in range(0,10500,500)]\n",
    "plt.hist(data_abb['price'].values, bins=bins, edgecolor=\"k\")\n",
    "\n",
    "\n",
    "plt.show()"
   ]
  },
  {
   "cell_type": "code",
   "execution_count": 6,
   "metadata": {},
   "outputs": [],
   "source": [
    "# Setting the target variable and independent variable\n",
    "X=['minimum_nights','number_of_reviews','availability_365','room_type','neighbourhood_group']\n",
    "y='price'"
   ]
  },
  {
   "cell_type": "code",
   "execution_count": 7,
   "metadata": {},
   "outputs": [
    {
     "name": "stdout",
     "output_type": "stream",
     "text": [
      "(30989, 5)\n",
      "(30989,)\n"
     ]
    }
   ],
   "source": [
    "data_X=data_abb[X]\n",
    "data_y=data_abb[y]\n",
    "data_X.head()\n",
    "print(data_X.shape)\n",
    "print(data_y.shape)"
   ]
  },
  {
   "cell_type": "code",
   "execution_count": 8,
   "metadata": {},
   "outputs": [
    {
     "data": {
      "text/plain": [
       "(30989, 10)"
      ]
     },
     "execution_count": 8,
     "metadata": {},
     "output_type": "execute_result"
    }
   ],
   "source": [
    "# encoding the categorical data for making data suitable for machine to learn\n",
    "X=pd.get_dummies(data_X,prefix_sep='_',drop_first=True)\n",
    "X.shape"
   ]
  },
  {
   "cell_type": "code",
   "execution_count": 9,
   "metadata": {},
   "outputs": [
    {
     "data": {
      "text/html": [
       "<div>\n",
       "<style scoped>\n",
       "    .dataframe tbody tr th:only-of-type {\n",
       "        vertical-align: middle;\n",
       "    }\n",
       "\n",
       "    .dataframe tbody tr th {\n",
       "        vertical-align: top;\n",
       "    }\n",
       "\n",
       "    .dataframe thead th {\n",
       "        text-align: right;\n",
       "    }\n",
       "</style>\n",
       "<table border=\"1\" class=\"dataframe\">\n",
       "  <thead>\n",
       "    <tr style=\"text-align: right;\">\n",
       "      <th></th>\n",
       "      <th>minimum_nights</th>\n",
       "      <th>number_of_reviews</th>\n",
       "      <th>availability_365</th>\n",
       "      <th>room_type_Hotel room</th>\n",
       "      <th>room_type_Private room</th>\n",
       "      <th>room_type_Shared room</th>\n",
       "      <th>neighbourhood_group_Brooklyn</th>\n",
       "      <th>neighbourhood_group_Manhattan</th>\n",
       "      <th>neighbourhood_group_Queens</th>\n",
       "      <th>neighbourhood_group_Staten Island</th>\n",
       "    </tr>\n",
       "  </thead>\n",
       "  <tbody>\n",
       "    <tr>\n",
       "      <td>0</td>\n",
       "      <td>10</td>\n",
       "      <td>48</td>\n",
       "      <td>1</td>\n",
       "      <td>0</td>\n",
       "      <td>0</td>\n",
       "      <td>0</td>\n",
       "      <td>0</td>\n",
       "      <td>1</td>\n",
       "      <td>0</td>\n",
       "      <td>0</td>\n",
       "    </tr>\n",
       "    <tr>\n",
       "      <td>1</td>\n",
       "      <td>1</td>\n",
       "      <td>295</td>\n",
       "      <td>1</td>\n",
       "      <td>0</td>\n",
       "      <td>0</td>\n",
       "      <td>0</td>\n",
       "      <td>1</td>\n",
       "      <td>0</td>\n",
       "      <td>0</td>\n",
       "      <td>0</td>\n",
       "    </tr>\n",
       "    <tr>\n",
       "      <td>2</td>\n",
       "      <td>3</td>\n",
       "      <td>78</td>\n",
       "      <td>19</td>\n",
       "      <td>0</td>\n",
       "      <td>0</td>\n",
       "      <td>0</td>\n",
       "      <td>0</td>\n",
       "      <td>1</td>\n",
       "      <td>0</td>\n",
       "      <td>0</td>\n",
       "    </tr>\n",
       "    <tr>\n",
       "      <td>3</td>\n",
       "      <td>29</td>\n",
       "      <td>49</td>\n",
       "      <td>365</td>\n",
       "      <td>0</td>\n",
       "      <td>1</td>\n",
       "      <td>0</td>\n",
       "      <td>1</td>\n",
       "      <td>0</td>\n",
       "      <td>0</td>\n",
       "      <td>0</td>\n",
       "    </tr>\n",
       "    <tr>\n",
       "      <td>4</td>\n",
       "      <td>2</td>\n",
       "      <td>454</td>\n",
       "      <td>242</td>\n",
       "      <td>0</td>\n",
       "      <td>1</td>\n",
       "      <td>0</td>\n",
       "      <td>0</td>\n",
       "      <td>1</td>\n",
       "      <td>0</td>\n",
       "      <td>0</td>\n",
       "    </tr>\n",
       "  </tbody>\n",
       "</table>\n",
       "</div>"
      ],
      "text/plain": [
       "   minimum_nights  number_of_reviews  availability_365  room_type_Hotel room  \\\n",
       "0              10                 48                 1                     0   \n",
       "1               1                295                 1                     0   \n",
       "2               3                 78                19                     0   \n",
       "3              29                 49               365                     0   \n",
       "4               2                454               242                     0   \n",
       "\n",
       "   room_type_Private room  room_type_Shared room  \\\n",
       "0                       0                      0   \n",
       "1                       0                      0   \n",
       "2                       0                      0   \n",
       "3                       1                      0   \n",
       "4                       1                      0   \n",
       "\n",
       "   neighbourhood_group_Brooklyn  neighbourhood_group_Manhattan  \\\n",
       "0                             0                              1   \n",
       "1                             1                              0   \n",
       "2                             0                              1   \n",
       "3                             1                              0   \n",
       "4                             0                              1   \n",
       "\n",
       "   neighbourhood_group_Queens  neighbourhood_group_Staten Island  \n",
       "0                           0                                  0  \n",
       "1                           0                                  0  \n",
       "2                           0                                  0  \n",
       "3                           0                                  0  \n",
       "4                           0                                  0  "
      ]
     },
     "execution_count": 9,
     "metadata": {},
     "output_type": "execute_result"
    }
   ],
   "source": [
    "X.head()"
   ]
  },
  {
   "cell_type": "code",
   "execution_count": 10,
   "metadata": {},
   "outputs": [],
   "source": [
    "# ML \n",
    "\n",
    "from sklearn.model_selection import train_test_split\n",
    "X_train,X_test,y_train,y_test=train_test_split(X,data_y,test_size=0.25,random_state=1)"
   ]
  },
  {
   "cell_type": "code",
   "execution_count": 11,
   "metadata": {},
   "outputs": [
    {
     "name": "stdout",
     "output_type": "stream",
     "text": [
      "median absolute deviation (MAD):  0.6156111578502758\n",
      "\n",
      "        Mean Squared Error: 407.2302533609815\n",
      "        R2 Score: 7.322849209336635\n",
      "        Mean Absolute Error: 96.15465426688623\n",
      "     \n"
     ]
    }
   ],
   "source": [
    "from sklearn.tree import DecisionTreeRegressor\n",
    "\n",
    "Reg_tree=DecisionTreeRegressor(criterion='mse',max_depth=3,random_state=0)\n",
    "Reg_tree=Reg_tree.fit(X_train,y_train)\n",
    "\n",
    "y_predicts=Reg_tree.predict(X_test)\n",
    "print(\"median absolute deviation (MAD): \",np.mean(abs(np.multiply(np.array(y_test.T-y_predicts),np.array(1/y_test)))))\n",
    "print(\"\"\"\n",
    "        Mean Squared Error: {}\n",
    "        R2 Score: {}\n",
    "        Mean Absolute Error: {}\n",
    "     \"\"\".format(\n",
    "        np.sqrt(metrics.mean_squared_error(y_test, y_predicts)),\n",
    "        r2_score(y_test,y_predicts) * 100,\n",
    "        mean_absolute_error(y_test,y_predicts)\n",
    "        ))"
   ]
  },
  {
   "cell_type": "code",
   "execution_count": null,
   "metadata": {},
   "outputs": [],
   "source": []
  },
  {
   "cell_type": "code",
   "execution_count": null,
   "metadata": {},
   "outputs": [],
   "source": []
  },
  {
   "cell_type": "code",
   "execution_count": null,
   "metadata": {},
   "outputs": [],
   "source": []
  },
  {
   "cell_type": "code",
   "execution_count": null,
   "metadata": {},
   "outputs": [],
   "source": []
  },
  {
   "cell_type": "code",
   "execution_count": null,
   "metadata": {},
   "outputs": [],
   "source": []
  },
  {
   "cell_type": "code",
   "execution_count": null,
   "metadata": {},
   "outputs": [],
   "source": []
  },
  {
   "cell_type": "code",
   "execution_count": null,
   "metadata": {},
   "outputs": [],
   "source": []
  },
  {
   "cell_type": "code",
   "execution_count": null,
   "metadata": {},
   "outputs": [],
   "source": []
  },
  {
   "cell_type": "code",
   "execution_count": null,
   "metadata": {},
   "outputs": [],
   "source": []
  },
  {
   "cell_type": "code",
   "execution_count": null,
   "metadata": {},
   "outputs": [],
   "source": []
  }
 ],
 "metadata": {
  "kernelspec": {
   "display_name": "Python 3",
   "language": "python",
   "name": "python3"
  },
  "language_info": {
   "codemirror_mode": {
    "name": "ipython",
    "version": 3
   },
   "file_extension": ".py",
   "mimetype": "text/x-python",
   "name": "python",
   "nbconvert_exporter": "python",
   "pygments_lexer": "ipython3",
   "version": "3.7.4"
  }
 },
 "nbformat": 4,
 "nbformat_minor": 2
}
